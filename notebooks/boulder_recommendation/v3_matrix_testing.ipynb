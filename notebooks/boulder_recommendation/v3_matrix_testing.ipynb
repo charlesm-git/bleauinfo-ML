{
 "cells": [
  {
   "cell_type": "markdown",
   "id": "ac9d8347",
   "metadata": {},
   "source": [
    "# Matrix testing"
   ]
  },
  {
   "cell_type": "code",
   "execution_count": 4,
   "id": "41a314ac",
   "metadata": {},
   "outputs": [],
   "source": [
    "from scipy.sparse import load_npz\n",
    "\n",
    "similarity_ascents = load_npz(\"similarity_ascent.npz\")\n",
    "similarity_style = load_npz(\"similarity_style.npz\")\n",
    "similarity_grade = load_npz(\"similarity_grade.npz\")"
   ]
  },
  {
   "cell_type": "code",
   "execution_count": 6,
   "id": "d8872031",
   "metadata": {},
   "outputs": [
    {
     "data": {
      "text/plain": [
       "[1837, 4641, 28325, 8828, 25143, 11405, 3882, 1835, 30911, 28318]"
      ]
     },
     "execution_count": 6,
     "metadata": {},
     "output_type": "execute_result"
    }
   ],
   "source": [
    "import numpy as np\n",
    "\n",
    "def recommend_boulders(\n",
    "    input_boulders, top_n=5, alpha=0.5, beta=0.25, gamma=0.25\n",
    "):\n",
    "\n",
    "    ascents = similarity_ascents[:, input_boulders].sum(axis=1).A1\n",
    "    style = similarity_style[:, input_boulders].sum(axis=1).A1\n",
    "    grade = similarity_grade[:, input_boulders].sum(axis=1).A1\n",
    "\n",
    "    ascents[input_boulders] = 0\n",
    "    style[input_boulders] = 0\n",
    "    grade[input_boulders] = 0\n",
    "\n",
    "    sim_scores = alpha * ascents + beta * style + gamma * grade\n",
    "\n",
    "    best_boulders = np.argsort(-sim_scores)[:top_n]\n",
    "\n",
    "    return best_boulders.tolist()\n",
    "\n",
    "\n",
    "recommend_boulders([60], top_n=10)"
   ]
  }
 ],
 "metadata": {
  "kernelspec": {
   "display_name": ".venv",
   "language": "python",
   "name": "python3"
  },
  "language_info": {
   "codemirror_mode": {
    "name": "ipython",
    "version": 3
   },
   "file_extension": ".py",
   "mimetype": "text/x-python",
   "name": "python",
   "nbconvert_exporter": "python",
   "pygments_lexer": "ipython3",
   "version": "3.13.0"
  }
 },
 "nbformat": 4,
 "nbformat_minor": 5
}
