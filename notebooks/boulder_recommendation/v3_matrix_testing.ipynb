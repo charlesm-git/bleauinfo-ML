{
 "cells": [
  {
   "cell_type": "markdown",
   "id": "ac9d8347",
   "metadata": {},
   "source": [
    "# Matrix testing"
   ]
  },
  {
   "cell_type": "code",
   "execution_count": 18,
   "id": "7414cb9b",
   "metadata": {},
   "outputs": [],
   "source": [
    "from sqlalchemy.orm import Session\n",
    "from sqlalchemy import create_engine\n",
    "\n",
    "DB_URL = \"sqlite:///../../bleau_info.db\"\n",
    "\n",
    "engine = create_engine(DB_URL, echo=False)\n",
    "\n",
    "session = Session(engine)"
   ]
  },
  {
   "cell_type": "code",
   "execution_count": 21,
   "id": "73ec9f3b",
   "metadata": {},
   "outputs": [],
   "source": [
    "import sys\n",
    "\n",
    "sys.path.append(\"../../\")"
   ]
  },
  {
   "cell_type": "code",
   "execution_count": 19,
   "id": "41a314ac",
   "metadata": {},
   "outputs": [],
   "source": [
    "from scipy.sparse import load_npz\n",
    "\n",
    "similarity_ascents = load_npz(\"../../similarity_ascent.npz\")\n",
    "similarity_style = load_npz(\"../../similarity_style.npz\")\n",
    "similarity_grade = load_npz(\"../../similarity_grade.npz\")"
   ]
  },
  {
   "cell_type": "code",
   "execution_count": null,
   "id": "d8872031",
   "metadata": {},
   "outputs": [
    {
     "data": {
      "text/plain": [
       "[('Ouroboros', 18099),\n",
       " ('Le Proueptologue (assis)', 3820),\n",
       " ('Extraction Divine (assis)', 22853),\n",
       " ('La Théorie des Jeux (assis)', 15826),\n",
       " ('Magneton', 25502),\n",
       " ('Respire', 1822),\n",
       " ('Contre Sens', 28315),\n",
       " ('Énergie Collective', 23530),\n",
       " ('Imothep', 3639),\n",
       " ('Tilt', 37152),\n",
       " ('Hallelujah', 26303),\n",
       " ('Realist', 22742),\n",
       " ('Le Plat du Chef (assis)', 33602),\n",
       " ('Déforestation', 11651),\n",
       " ('Free Hug (assis)', 13458),\n",
       " ('Kaïken', 25204),\n",
       " ('Miss Tick', 3823),\n",
       " ('Le Maître est Talon (assis)', 17857),\n",
       " ('Saïgon (assis)', 6208),\n",
       " ('Saï (assis)', 3068)]"
      ]
     },
     "metadata": {},
     "output_type": "display_data"
    }
   ],
   "source": [
    "import numpy as np\n",
    "from sqlalchemy import select\n",
    "\n",
    "from models.boulder import Boulder\n",
    "\n",
    "\n",
    "def recommend_boulders(\n",
    "    input_boulders,\n",
    "    top_n=5,\n",
    "    ascent_weight=0.5,\n",
    "    style_weight=0.25,\n",
    "    grade_weight=0.25,\n",
    "):\n",
    "\n",
    "    ascents = similarity_ascents[:, input_boulders].sum(axis=1).A1\n",
    "    style = similarity_style[:, input_boulders].sum(axis=1).A1\n",
    "    grade = similarity_grade[:, input_boulders].sum(axis=1).A1\n",
    "\n",
    "    # Remove input boulders from the recommendation\n",
    "    ascents[input_boulders] = 0\n",
    "    style[input_boulders] = 0\n",
    "    grade[input_boulders] = 0\n",
    "\n",
    "    sim_scores = (\n",
    "        ascent_weight * ascents + style_weight * style + grade_weight * grade\n",
    "    )\n",
    "\n",
    "    best_boulders = np.argsort(-sim_scores)[:top_n]\n",
    "\n",
    "    return best_boulders.tolist()\n",
    "\n",
    "\n",
    "ids = recommend_boulders(\n",
    "    [6735], top_n=20, ascent_weight=0.5, style_weight=0.25, grade_weight=0.25\n",
    ")\n",
    "\n",
    "boulders = session.execute(\n",
    "    select(Boulder.name, Boulder.id).filter(Boulder.id.in_(ids))\n",
    ").all()\n",
    "\n",
    "boulder_dict = {\n",
    "    boulder_id: boulder_name for boulder_name, boulder_id in boulders\n",
    "}\n",
    "boulder_names = [(boulder_dict[boulder_id], boulder_id) for boulder_id in ids]\n",
    "display(boulder_names)"
   ]
  }
 ],
 "metadata": {
  "kernelspec": {
   "display_name": ".venv",
   "language": "python",
   "name": "python3"
  },
  "language_info": {
   "codemirror_mode": {
    "name": "ipython",
    "version": 3
   },
   "file_extension": ".py",
   "mimetype": "text/x-python",
   "name": "python",
   "nbconvert_exporter": "python",
   "pygments_lexer": "ipython3",
   "version": "3.13.0"
  }
 },
 "nbformat": 4,
 "nbformat_minor": 5
}
