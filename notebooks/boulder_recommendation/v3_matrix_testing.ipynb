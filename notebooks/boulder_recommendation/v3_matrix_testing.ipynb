{
 "cells": [
  {
   "cell_type": "markdown",
   "id": "ac9d8347",
   "metadata": {},
   "source": [
    "# Matrix testing"
   ]
  },
  {
   "cell_type": "code",
   "execution_count": null,
   "id": "7414cb9b",
   "metadata": {},
   "outputs": [],
   "source": [
    "from sqlalchemy.orm import Session\n",
    "from sqlalchemy import create_engine\n",
    "\n",
    "DB_URL = \"sqlite:///../../bleau_info-17-09-2025.db\"\n",
    "\n",
    "engine = create_engine(DB_URL, echo=False)\n",
    "\n",
    "session = Session(engine)"
   ]
  },
  {
   "cell_type": "code",
   "execution_count": 2,
   "id": "73ec9f3b",
   "metadata": {},
   "outputs": [],
   "source": [
    "import sys\n",
    "\n",
    "sys.path.append(\"../../\")"
   ]
  },
  {
   "cell_type": "code",
   "execution_count": 3,
   "id": "41a314ac",
   "metadata": {},
   "outputs": [],
   "source": [
    "from scipy.sparse import load_npz\n",
    "\n",
    "similarity_ascents = load_npz(\"../../similarity_ascent.npz\")\n",
    "similarity_style = load_npz(\"../../similarity_style.npz\")\n",
    "similarity_grade = load_npz(\"../../similarity_grade.npz\")"
   ]
  },
  {
   "cell_type": "code",
   "execution_count": 4,
   "id": "d8872031",
   "metadata": {},
   "outputs": [
    {
     "data": {
      "text/plain": [
       "[('Ça Tend à Gauche', 26610),\n",
       " ('Le Sacre du Printemps', 23907),\n",
       " ('Le Tri-Phasé', 34816),\n",
       " ('Freestyle', 34419),\n",
       " ('Maracuja', 18816),\n",
       " ('Freak of the Weak', 15554),\n",
       " ('Le Dolmen du Divin', 32911),\n",
       " ('Nouvelle Vague', 24491),\n",
       " ('La Maison de la Presse', 22541),\n",
       " ('Nazaré', 5408),\n",
       " ('Blozone', 22497),\n",
       " ('Für Alina (assis)', 3339),\n",
       " ('Hadès', 4634),\n",
       " ('Priapisme (assis)', 3338),\n",
       " ('Velociraptor', 27710),\n",
       " ('Goruliak (assis)', 4403),\n",
       " ('Le Parfum des Couleurs', 31679),\n",
       " ('Irréversible', 21768),\n",
       " ('Belle de Jour', 34129),\n",
       " (\"Jeu t'es Fou (assis)\", 20087)]"
      ]
     },
     "metadata": {},
     "output_type": "display_data"
    }
   ],
   "source": [
    "import numpy as np\n",
    "from sqlalchemy import select\n",
    "\n",
    "from models.boulder import Boulder\n",
    "\n",
    "\n",
    "def recommend_boulders(\n",
    "    input_boulders,\n",
    "    top_n=5,\n",
    "    ascent_weight=0.5,\n",
    "    style_weight=0.25,\n",
    "    grade_weight=0.25,\n",
    "):\n",
    "\n",
    "    ascents = similarity_ascents[:, input_boulders].sum(axis=1).A1\n",
    "    style = similarity_style[:, input_boulders].sum(axis=1).A1\n",
    "    grade = similarity_grade[:, input_boulders].sum(axis=1).A1\n",
    "\n",
    "    # Remove input boulders from the recommendation\n",
    "    ascents[input_boulders] = 0\n",
    "    style[input_boulders] = 0\n",
    "    grade[input_boulders] = 0\n",
    "\n",
    "    sim_scores = (\n",
    "        ascent_weight * ascents + style_weight * style + grade_weight * grade\n",
    "    )\n",
    "\n",
    "    best_boulders = np.argsort(-sim_scores)[:top_n]\n",
    "\n",
    "    return best_boulders.tolist()\n",
    "\n",
    "\n",
    "ids = recommend_boulders(\n",
    "    [12711], top_n=20, ascent_weight=0.5, style_weight=0.25, grade_weight=0.25\n",
    ")\n",
    "\n",
    "boulders = session.execute(\n",
    "    select(Boulder.name, Boulder.id).filter(Boulder.id.in_(ids))\n",
    ").all()\n",
    "\n",
    "boulder_dict = {\n",
    "    boulder_id: boulder_name for boulder_name, boulder_id in boulders\n",
    "}\n",
    "boulder_names = [(boulder_dict[boulder_id], boulder_id) for boulder_id in ids]\n",
    "display(boulder_names)"
   ]
  }
 ],
 "metadata": {
  "kernelspec": {
   "display_name": ".venv",
   "language": "python",
   "name": "python3"
  },
  "language_info": {
   "codemirror_mode": {
    "name": "ipython",
    "version": 3
   },
   "file_extension": ".py",
   "mimetype": "text/x-python",
   "name": "python",
   "nbconvert_exporter": "python",
   "pygments_lexer": "ipython3",
   "version": "3.13.0"
  }
 },
 "nbformat": 4,
 "nbformat_minor": 5
}
